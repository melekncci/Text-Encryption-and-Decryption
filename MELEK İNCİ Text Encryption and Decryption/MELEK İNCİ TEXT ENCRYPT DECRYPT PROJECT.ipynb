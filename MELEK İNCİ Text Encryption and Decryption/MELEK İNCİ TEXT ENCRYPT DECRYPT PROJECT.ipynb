{
 "cells": [
  {
   "cell_type": "markdown",
   "source": [
    "MELEK İNCİ TEXT ENCRYPT DECRYPT PROJECT"
   ],
   "metadata": {
    "collapsed": false
   },
   "id": "fd309401f9c4970"
  },
  {
   "cell_type": "markdown",
   "source": [
    "1. Encryption function\n",
    "First, I defined encrypt function."
   ],
   "metadata": {
    "collapsed": false
   },
   "id": "4be78d8a45708808"
  },
  {
   "cell_type": "code",
   "execution_count": 16,
   "outputs": [],
   "source": [
    "def encrypt(msg, n):\n",
    "    encrypted_msg = \"\"\n",
    "    for char in msg:\n",
    "        if char.isalpha():\n",
    "            shift = (ord(char) - ord('A') - n) % 26\n",
    "            encrypted_char = chr(ord('A') + shift)\n",
    "            encrypted_msg += encrypted_char\n",
    "        else:\n",
    "            encrypted_msg += char\n",
    "    return encrypted_msg"
   ],
   "metadata": {
    "collapsed": false,
    "ExecuteTime": {
     "end_time": "2023-10-09T15:22:11.445341200Z",
     "start_time": "2023-10-09T15:22:11.401206100Z"
    }
   },
   "id": "fe7cebe5032ffecd"
  },
  {
   "cell_type": "markdown",
   "source": [
    "Now, we can test it on some text (e.g. \"THE QUICK BROWN FOX JUMPS OVER THE LAZY DOG\") and check if it returns the expected encrypted text (e.g. \"QEB NRFZH YOLTK CLU GRJMP LSBO QEB IXWV ALD\" if you chose n = 3)."
   ],
   "metadata": {
    "collapsed": false
   },
   "id": "e635ee3eaeb45e01"
  },
  {
   "cell_type": "code",
   "execution_count": 17,
   "outputs": [
    {
     "name": "stdout",
     "output_type": "stream",
     "text": [
      "Encrypted message: QEB NRFZH YOLTK CLU GRJMP LSBO QEB IXWV ALD\n"
     ]
    }
   ],
   "source": [
    "original_text = \"THE QUICK BROWN FOX JUMPS OVER THE LAZY DOG\"\n",
    "encrypted_text = encrypt(original_text, 3)\n",
    "print(\"Encrypted message:\", encrypted_text)"
   ],
   "metadata": {
    "collapsed": false,
    "ExecuteTime": {
     "end_time": "2023-10-09T15:22:11.446846100Z",
     "start_time": "2023-10-09T15:22:11.403711800Z"
    }
   },
   "id": "440047bdae1e83a1"
  },
  {
   "cell_type": "markdown",
   "source": [
    "2. Decryption function\n",
    "Second, I defined decrypt function."
   ],
   "metadata": {
    "collapsed": false
   },
   "id": "39d07bd3a94a06c2"
  },
  {
   "cell_type": "code",
   "execution_count": 18,
   "outputs": [],
   "source": [
    "def decrypt(encrypted_msg, n):\n",
    "    clear_msg = \"\"\n",
    "    for char in encrypted_msg:\n",
    "        if char.isalpha():\n",
    "            shift = (ord(char) - ord('A') + n) % 26\n",
    "            decrypted_char = chr(ord('A') + shift)\n",
    "            clear_msg += decrypted_char\n",
    "        else:\n",
    "            clear_msg += char\n",
    "    return clear_msg"
   ],
   "metadata": {
    "collapsed": false,
    "ExecuteTime": {
     "end_time": "2023-10-09T15:22:11.446846100Z",
     "start_time": "2023-10-09T15:22:11.409281600Z"
    }
   },
   "id": "9c90a88569519760"
  },
  {
   "cell_type": "markdown",
   "source": [
    "Now, we can test it on some text (e.g. \"QEB NRFZH YOLTK CLU GRJMP LSBO QEB IXWV AL\") and check if it\n",
    "returns the correct decrypted text (e.g. \"THE QUICK BROWN FOX JUMPS OVER THE LAZY DOG\" if you chose n = 3)."
   ],
   "metadata": {
    "collapsed": false
   },
   "id": "4ec7776decc401d8"
  },
  {
   "cell_type": "code",
   "execution_count": 19,
   "outputs": [
    {
     "name": "stdout",
     "output_type": "stream",
     "text": [
      "Decrypted message: THE QUICK BROWN FOX JUMPS OVER THE LAZY DOG\n"
     ]
    }
   ],
   "source": [
    "decrypted_text = decrypt(encrypted_text, 3)\n",
    "print(\"Decrypted message:\", decrypted_text)"
   ],
   "metadata": {
    "collapsed": false,
    "ExecuteTime": {
     "end_time": "2023-10-09T15:22:11.458821Z",
     "start_time": "2023-10-09T15:22:11.419902600Z"
    }
   },
   "id": "41f96fcc8a4f70e2"
  },
  {
   "cell_type": "markdown",
   "source": [
    "3. Reading / Writing to text a file"
   ],
   "metadata": {
    "collapsed": false
   },
   "id": "3bfd344ef97642c4"
  },
  {
   "cell_type": "code",
   "execution_count": 20,
   "outputs": [],
   "source": [
    "#READ FROM clearText.txt, ENCRYPT AND WRITE TO encryptedText.txt\n",
    "with open(\"clearText.txt\", \"r\") as f1, open(\"encryptedText.txt\", \"w\") as f2:  #F1 AND F2 AS A NICKNAME\n",
    "    for line in f1.readlines():\n",
    "        encrypted_line = encrypt(line, 3)  # USED n=3 AS THE ENCRYPTION KEY\n",
    "        f2.write(encrypted_line)"
   ],
   "metadata": {
    "collapsed": false,
    "ExecuteTime": {
     "end_time": "2023-10-09T15:22:11.506831700Z",
     "start_time": "2023-10-09T15:22:11.429670900Z"
    }
   },
   "id": "1e677ac2a9bd92c7"
  },
  {
   "cell_type": "markdown",
   "source": [
    "4. Letter frequency analysis\n",
    "This function performs frequency analysis is to count the frequency of each letter in the encrypted text. "
   ],
   "metadata": {
    "collapsed": false
   },
   "id": "c2fc1f09d5d2ff3c"
  },
  {
   "cell_type": "code",
   "execution_count": 21,
   "outputs": [],
   "source": [
    "def letter_frequency_analysis(encrypted_msg):\n",
    "    letter_counts = {}\n",
    "    for char in encrypted_msg:\n",
    "        if char.isalpha():\n",
    "            char = char.upper()  \n",
    "            if char in letter_counts:\n",
    "                letter_counts[char] += 1\n",
    "            else:\n",
    "                letter_counts[char] = 1\n",
    "\n",
    "    for char, count in letter_counts.items():\n",
    "        print(f\"{char} occurs {count} times in the encrypted text\")"
   ],
   "metadata": {
    "collapsed": false,
    "ExecuteTime": {
     "end_time": "2023-10-09T15:22:11.507831700Z",
     "start_time": "2023-10-09T15:22:11.433485400Z"
    }
   },
   "id": "f373fdadb58eac8b"
  },
  {
   "cell_type": "markdown",
   "source": [
    "Now, we can open encryptedText.txt, read and print letter frequence analysis."
   ],
   "metadata": {
    "collapsed": false
   },
   "id": "87608c46c3a79359"
  },
  {
   "cell_type": "code",
   "execution_count": 22,
   "outputs": [
    {
     "name": "stdout",
     "output_type": "stream",
     "text": [
      "J occurs 3 times in the encrypted text\n",
      "R occurs 30 times in the encrypted text\n",
      "U occurs 25 times in the encrypted text\n",
      "H occurs 33 times in the encrypted text\n",
      "W occurs 25 times in the encrypted text\n",
      "Q occurs 20 times in the encrypted text\n",
      "Y occurs 4 times in the encrypted text\n",
      "D occurs 31 times in the encrypted text\n",
      "B occurs 3 times in the encrypted text\n",
      "L occurs 14 times in the encrypted text\n",
      "V occurs 22 times in the encrypted text\n",
      "O occurs 12 times in the encrypted text\n",
      "F occurs 9 times in the encrypted text\n",
      "G occurs 8 times in the encrypted text\n",
      "K occurs 4 times in the encrypted text\n",
      "I occurs 7 times in the encrypted text\n",
      "X occurs 9 times in the encrypted text\n",
      "N occurs 4 times in the encrypted text\n",
      "P occurs 8 times in the encrypted text\n",
      "E occurs 2 times in the encrypted text\n",
      "S occurs 5 times in the encrypted text\n",
      "Z occurs 2 times in the encrypted text\n"
     ]
    }
   ],
   "source": [
    "with open(\"encryptedText.txt\", \"r\") as f3:\n",
    "    encrypted_text = f3.read()\n",
    "    letter_frequency_analysis(encrypted_text)"
   ],
   "metadata": {
    "collapsed": false,
    "ExecuteTime": {
     "end_time": "2023-10-09T15:22:11.524835400Z",
     "start_time": "2023-10-09T15:22:11.438526400Z"
    }
   },
   "id": "a2e4905b6076d582"
  },
  {
   "cell_type": "markdown",
   "source": [
    "Also we can check frequency analysis for given text:"
   ],
   "metadata": {
    "collapsed": false
   },
   "id": "81c40d88c4fff939"
  },
  {
   "cell_type": "code",
   "execution_count": 23,
   "outputs": [
    {
     "name": "stdout",
     "output_type": "stream",
     "text": [
      "Q occurs 2 times in the encrypted text\n",
      "E occurs 2 times in the encrypted text\n",
      "B occurs 3 times in the encrypted text\n",
      "N occurs 1 times in the encrypted text\n",
      "R occurs 2 times in the encrypted text\n",
      "F occurs 1 times in the encrypted text\n",
      "Z occurs 1 times in the encrypted text\n",
      "H occurs 1 times in the encrypted text\n",
      "Y occurs 1 times in the encrypted text\n",
      "O occurs 2 times in the encrypted text\n",
      "L occurs 4 times in the encrypted text\n",
      "T occurs 1 times in the encrypted text\n",
      "K occurs 1 times in the encrypted text\n",
      "C occurs 1 times in the encrypted text\n",
      "U occurs 1 times in the encrypted text\n",
      "G occurs 1 times in the encrypted text\n",
      "J occurs 1 times in the encrypted text\n",
      "M occurs 1 times in the encrypted text\n",
      "P occurs 1 times in the encrypted text\n",
      "S occurs 1 times in the encrypted text\n",
      "I occurs 1 times in the encrypted text\n",
      "X occurs 1 times in the encrypted text\n",
      "W occurs 1 times in the encrypted text\n",
      "V occurs 1 times in the encrypted text\n",
      "A occurs 1 times in the encrypted text\n",
      "D occurs 1 times in the encrypted text\n"
     ]
    }
   ],
   "source": [
    "encrypted_text = \"QEB NRFZH YOLTK CLU GRJMP LSBO QEB IXWV ALD\"\n",
    "letter_frequency_analysis(encrypted_text)"
   ],
   "metadata": {
    "collapsed": false,
    "ExecuteTime": {
     "end_time": "2023-10-09T15:22:11.526835900Z",
     "start_time": "2023-10-09T15:22:11.444335700Z"
    }
   },
   "id": "6bf2efbf43b168c"
  },
  {
   "cell_type": "code",
   "execution_count": 23,
   "outputs": [],
   "source": [],
   "metadata": {
    "collapsed": false,
    "ExecuteTime": {
     "end_time": "2023-10-09T15:22:11.526835900Z",
     "start_time": "2023-10-09T15:22:11.446846100Z"
    }
   },
   "id": "9cbcee365d981b33"
  }
 ],
 "metadata": {
  "kernelspec": {
   "name": "python3",
   "language": "python",
   "display_name": "Python 3 (ipykernel)"
  }
 },
 "nbformat": 4,
 "nbformat_minor": 5
}
